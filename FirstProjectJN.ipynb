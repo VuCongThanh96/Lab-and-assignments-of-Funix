{
 "cells": [
  {
   "cell_type": "markdown",
   "id": "1aab32ec",
   "metadata": {},
   "source": [
    "Convert degree C to degree F"
   ]
  },
  {
   "cell_type": "code",
   "execution_count": 18,
   "id": "e02def4e",
   "metadata": {},
   "outputs": [
    {
     "name": "stdout",
     "output_type": "stream",
     "text": [
      "Chương trình chuyển đổi độ C sang độ F\n"
     ]
    }
   ],
   "source": [
    "print(\"Chương trình chuyển đổi độ C sang độ F\")"
   ]
  },
  {
   "cell_type": "code",
   "execution_count": 19,
   "id": "ba089e02",
   "metadata": {},
   "outputs": [
    {
     "name": "stdout",
     "output_type": "stream",
     "text": [
      "Nhập vào nhiệt độ C muốn chuyển sang độ F: 0\n"
     ]
    }
   ],
   "source": [
    "c = float(input(\"Nhập vào nhiệt độ C muốn chuyển sang độ F: \")) #stament input"
   ]
  },
  {
   "cell_type": "code",
   "execution_count": 20,
   "id": "efde44bc",
   "metadata": {},
   "outputs": [],
   "source": [
    "f = ((c*9)/5)+32"
   ]
  },
  {
   "cell_type": "code",
   "execution_count": 21,
   "id": "0c235bfe",
   "metadata": {},
   "outputs": [
    {
     "name": "stdout",
     "output_type": "stream",
     "text": [
      "Nhiệt độ F:  32.0\n"
     ]
    }
   ],
   "source": [
    "print(\"Nhiệt độ F: \", f) #stament output"
   ]
  }
 ],
 "metadata": {
  "kernelspec": {
   "display_name": "Python 3 (ipykernel)",
   "language": "python",
   "name": "python3"
  },
  "language_info": {
   "codemirror_mode": {
    "name": "ipython",
    "version": 3
   },
   "file_extension": ".py",
   "mimetype": "text/x-python",
   "name": "python",
   "nbconvert_exporter": "python",
   "pygments_lexer": "ipython3",
   "version": "3.9.7"
  }
 },
 "nbformat": 4,
 "nbformat_minor": 5
}
