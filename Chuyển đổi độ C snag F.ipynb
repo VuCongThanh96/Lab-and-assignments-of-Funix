{
 "cells": [
  {
   "cell_type": "markdown",
   "id": "76a27f7b",
   "metadata": {},
   "source": [
    "My Title"
   ]
  },
  {
   "cell_type": "code",
   "execution_count": 12,
   "id": "0f854bb8",
   "metadata": {
    "scrolled": true
   },
   "outputs": [
    {
     "data": {
      "text/plain": [
       "2"
      ]
     },
     "execution_count": 12,
     "metadata": {},
     "output_type": "execute_result"
    }
   ],
   "source": [
    "1+1"
   ]
  },
  {
   "cell_type": "markdown",
   "id": "1aab32ec",
   "metadata": {},
   "source": [
    "Convert degree C to degree F"
   ]
  },
  {
   "cell_type": "code",
   "execution_count": 13,
   "id": "e02def4e",
   "metadata": {},
   "outputs": [
    {
     "name": "stdout",
     "output_type": "stream",
     "text": [
      "Chương trình chuyển đổi độ C sang độ F\n"
     ]
    }
   ],
   "source": [
    "print(\"Chương trình chuyển đổi độ C sang độ F\")"
   ]
  },
  {
   "cell_type": "code",
   "execution_count": 14,
   "id": "ba089e02",
   "metadata": {},
   "outputs": [
    {
     "name": "stdout",
     "output_type": "stream",
     "text": [
      "Nhập vào nhiệt độ C muốn chuyển sang độ F: 21\n"
     ]
    }
   ],
   "source": [
    "c = float(input(\"Nhập vào nhiệt độ C muốn chuyển sang độ F: \")) #stament input"
   ]
  },
  {
   "cell_type": "code",
   "execution_count": 15,
   "id": "efde44bc",
   "metadata": {},
   "outputs": [],
   "source": [
    "f = ((c*9)/5)+32"
   ]
  },
  {
   "cell_type": "code",
   "execution_count": 16,
   "id": "0c235bfe",
   "metadata": {
    "scrolled": false
   },
   "outputs": [
    {
     "name": "stdout",
     "output_type": "stream",
     "text": [
      "Nhiệt độ F:  69.8\n"
     ]
    }
   ],
   "source": [
    "print(\"Nhiệt độ F: \", f) #stament output"
   ]
  },
  {
   "cell_type": "markdown",
   "id": "8911ec71",
   "metadata": {},
   "source": [
    "### "
   ]
  }
 ],
 "metadata": {
  "kernelspec": {
   "display_name": "Python 3 (ipykernel)",
   "language": "python",
   "name": "python3"
  },
  "language_info": {
   "codemirror_mode": {
    "name": "ipython",
    "version": 3
   },
   "file_extension": ".py",
   "mimetype": "text/x-python",
   "name": "python",
   "nbconvert_exporter": "python",
   "pygments_lexer": "ipython3",
   "version": "3.9.7"
  }
 },
 "nbformat": 4,
 "nbformat_minor": 5
}
