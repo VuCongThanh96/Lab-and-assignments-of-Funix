{
 "cells": [
  {
   "cell_type": "markdown",
   "id": "47a49d52-0501-458b-baf1-5d895d21b0e7",
   "metadata": {},
   "source": [
    "# Lab chap 1 in 301x"
   ]
  },
  {
   "cell_type": "markdown",
   "id": "83cdebc4-8bd7-40cc-b0ce-aa0e281d9c06",
   "metadata": {},
   "source": [
    "## Họ và tên : Vũ Công Thành\n",
    "### Mã sinh viên: FX14936\n",
    "### Lớp: K220411DS\n",
    "[Link Github](https://github.com/VuCongThanh96)\n",
    "Các bài lab backup trên Github"
   ]
  },
  {
   "cell_type": "markdown",
   "id": "a4a48408",
   "metadata": {
    "scrolled": false
   },
   "source": [
    "|Ngày|Tháng|Năm|\n",
    "|----|-----|----|\n",
    "|22|05|1996|"
   ]
  },
  {
   "cell_type": "code",
   "execution_count": null,
   "id": "7db169e2",
   "metadata": {},
   "outputs": [],
   "source": []
  }
 ],
 "metadata": {
  "kernelspec": {
   "display_name": "Python 3 (ipykernel)",
   "language": "python",
   "name": "python3"
  },
  "language_info": {
   "codemirror_mode": {
    "name": "ipython",
    "version": 3
   },
   "file_extension": ".py",
   "mimetype": "text/x-python",
   "name": "python",
   "nbconvert_exporter": "python",
   "pygments_lexer": "ipython3",
   "version": "3.9.7"
  }
 },
 "nbformat": 4,
 "nbformat_minor": 5
}
