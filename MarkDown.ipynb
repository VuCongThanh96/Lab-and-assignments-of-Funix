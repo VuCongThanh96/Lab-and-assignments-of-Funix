{
 "cells": [
  {
   "cell_type": "markdown",
   "id": "0d87341c",
   "metadata": {},
   "source": [
    "# Tiêu đề trên markdown có giống comment trong code hay không?\n",
    "## Không giống vì cell này sử dụng các thẻ H1, H2, ... (header) trong html\n",
    "### Có thấy kích thước của 3 cái head cùng trong 1 cell này khác nhau không :)\n",
    "khá là thú vị so với py đơn thuần, markdown hỗ trợ đến H6"
   ]
  },
  {
   "cell_type": "markdown",
   "id": "47d2a943",
   "metadata": {},
   "source": [
    "### *Dùng cặp *  * để in nghiêng nè*\n",
    "### **Dùng cặp ** ** để bôi đậm nè**\n",
    "### _Gạch chân nè_\n",
    "chả hiểu sao gạch cần không được-> cần hỏi thêm?"
   ]
  },
  {
   "cell_type": "markdown",
   "id": "4a2fefe1",
   "metadata": {},
   "source": [
    "# Gắn link(Hyperlink siêu liên kết)\n",
    "[Cognitive Class](https://cognitiveclass.ai) <br>\n",
    "[Link Github của tui](https://github.com/VuCongThanh96)"
   ]
  },
  {
   "cell_type": "markdown",
   "id": "64e40192",
   "metadata": {},
   "source": [
    "# Tạo bảng\n",
    "||Cot 1|Cot 2|Cot 3|\n",
    "|--|--|--|--|\n",
    "|Hang 1|  |  |  |\n",
    "|Hang 2|  |  |  |\n",
    "|Hang 3|  |  |  |\n",
    "|Hang 4|  |  |  |"
   ]
  }
 ],
 "metadata": {
  "kernelspec": {
   "display_name": "Python 3 (ipykernel)",
   "language": "python",
   "name": "python3"
  },
  "language_info": {
   "codemirror_mode": {
    "name": "ipython",
    "version": 3
   },
   "file_extension": ".py",
   "mimetype": "text/x-python",
   "name": "python",
   "nbconvert_exporter": "python",
   "pygments_lexer": "ipython3",
   "version": "3.9.7"
  }
 },
 "nbformat": 4,
 "nbformat_minor": 5
}
